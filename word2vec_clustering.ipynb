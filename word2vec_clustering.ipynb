{
 "cells": [
  {
   "cell_type": "code",
   "execution_count": 21,
   "metadata": {
    "collapsed": true
   },
   "outputs": [],
   "source": [
    "from sklearn.datasets import fetch_20newsgroups\n",
    "import nltk.data\n",
    "from bs4 import BeautifulSoup\n",
    "import re\n",
    "from nltk.corpus import stopwords\n",
    "import logging\n",
    "from gensim.models import Word2Vec,KeyedVectors\n",
    "import numpy as np\n",
    "import pandas as pd\n",
    "from nltk.stem.porter import PorterStemmer\n",
    "from stemming.porter2 import stem\n",
    "from sklearn.cluster import KMeans\n",
    "import time\n",
    "from sklearn.ensemble import RandomForestClassifier"
   ]
  },
  {
   "cell_type": "code",
   "execution_count": 2,
   "metadata": {
    "collapsed": false
   },
   "outputs": [
    {
     "name": "stdout",
     "output_type": "stream",
     "text": [
      "From: lerxst@wam.umd.edu (where's my thing)\n",
      "Subject: WHAT car is this!?\n",
      "Nntp-Posting-Host: rac3.wam.umd.edu\n",
      "rec.autos\n"
     ]
    }
   ],
   "source": [
    "#loading the news dataset from sklearn dataset library\n",
    "twenty_train = fetch_20newsgroups(subset='train',shuffle=True, random_state=42)\n",
    "twenty_test = fetch_20newsgroups(subset='test', shuffle=True, random_state=42)\n",
    "\n",
    "# tokenize to sentences based on the notations followed in english literature\n",
    "tokenizer = nltk.data.load('tokenizers/punkt/english.pickle')\n",
    "print(\"\\n\".join(twenty_train.data[0].split(\"\\n\")[:3]))\n",
    "print(twenty_train.target_names[twenty_train.target[0]])"
   ]
  },
  {
   "cell_type": "code",
   "execution_count": 3,
   "metadata": {
    "collapsed": true
   },
   "outputs": [],
   "source": [
    "# function to parse sentences to words and remove stopwords from sentence\n",
    "def sentence_to_wordlist( sentence, remove_stopwords=True ):\n",
    "    # Function to convert a document to a sequence of words,\n",
    "    # optionally removing stop words.  Returns a list of words.\n",
    "    #\n",
    "    # 1. Remove HTML\n",
    "    text = BeautifulSoup(sentence).get_text()\n",
    "    #  \n",
    "    # 2. Remove non-letters\n",
    "    text = re.sub(\"[^a-zA-Z]\",\" \",text)\n",
    "    #\n",
    "    # 3. Convert words to lower case and split them\n",
    "    words = text.lower().split()\n",
    "    #\n",
    "    # 4. Optionally remove stop words (false by default)\n",
    "    if remove_stopwords:\n",
    "        stops = set(stopwords.words(\"english\"))\n",
    "        words = [w for w in words if not w in stops]\n",
    "    #\n",
    "    # 5. Return a list of words\n",
    "    return(words)"
   ]
  },
  {
   "cell_type": "code",
   "execution_count": 4,
   "metadata": {
    "collapsed": true
   },
   "outputs": [],
   "source": [
    "# function to parse text to sentences using tokenizer mentioned above\n",
    "def text_to_sentences(text,tokenizer,remove_stopwords=True):\n",
    "    raw_sentences = tokenizer.tokenize(text.strip())\n",
    "    sentences = []\n",
    "    for raw_sentence in raw_sentences:\n",
    "        # If a sentence is empty, skip it\n",
    "        if len(raw_sentence) > 0:\n",
    "            # Otherwise, call review_to_wordlist to get a list of words\n",
    "            sentences.append( sentence_to_wordlist( raw_sentence, \\\n",
    "              remove_stopwords ))\n",
    "    #\n",
    "    # Return the list of sentences (each sentence is a list of words,\n",
    "    # so this returns a list of lists\n",
    "    return sentences"
   ]
  },
  {
   "cell_type": "code",
   "execution_count": 5,
   "metadata": {
    "collapsed": false
   },
   "outputs": [
    {
     "name": "stdout",
     "output_type": "stream",
     "text": [
      "Parsing sentences from training set\n"
     ]
    },
    {
     "name": "stderr",
     "output_type": "stream",
     "text": [
      "/home/dell/anaconda2/lib/python2.7/site-packages/bs4/__init__.py:181: UserWarning: No parser was explicitly specified, so I'm using the best available HTML parser for this system (\"lxml\"). This usually isn't a problem, but if you run this code on another system, or in a different virtual environment, it may use a different parser and behave differently.\n",
      "\n",
      "The code that caused this warning is on line 174 of the file /home/dell/anaconda2/lib/python2.7/runpy.py. To get rid of this warning, change code that looks like this:\n",
      "\n",
      " BeautifulSoup([your markup])\n",
      "\n",
      "to this:\n",
      "\n",
      " BeautifulSoup([your markup], \"lxml\")\n",
      "\n",
      "  markup_type=markup_type))\n",
      "/home/dell/anaconda2/lib/python2.7/site-packages/bs4/__init__.py:219: UserWarning: \".\" looks like a filename, not markup. You shouldprobably open this file and pass the filehandle intoBeautiful Soup.\n",
      "  'Beautiful Soup.' % markup)\n",
      "/home/dell/anaconda2/lib/python2.7/site-packages/bs4/__init__.py:219: UserWarning: \"..\" looks like a filename, not markup. You shouldprobably open this file and pass the filehandle intoBeautiful Soup.\n",
      "  'Beautiful Soup.' % markup)\n"
     ]
    },
    {
     "name": "stdout",
     "output_type": "stream",
     "text": [
      "11314\n",
      "[\"[u'lerxst', u'wam', u'umd', u'edu', u'thing', u'subject', u'car']\", \"[u'nntp', u'posting', u'host', u'rac', u'wam', u'umd', u'edu', u'organization', u'university', u'maryland', u'college', u'park', u'lines', u'wondering', u'anyone', u'could', u'enlighten', u'car', u'saw', u'day']\", \"[u'door', u'sports', u'car', u'looked', u'late', u'early']\", \"[u'called', u'bricklin']\", \"[u'doors', u'really', u'small']\", \"[u'addition', u'front', u'bumper', u'separate', u'rest', u'body']\", \"[u'know']\", \"[u'anyone', u'tellme', u'model', u'name', u'engine', u'specs', u'years', u'production', u'car', u'made', u'history', u'whatever', u'info', u'funky', u'looking', u'car', u'please', u'e', u'mail']\", \"[u'thanks', u'il', u'brought', u'neighborhood', u'lerxst']\"]\n",
      "Parsing sentences from unlabeled set\n"
     ]
    },
    {
     "name": "stderr",
     "output_type": "stream",
     "text": [
      "/home/dell/anaconda2/lib/python2.7/site-packages/bs4/__init__.py:219: UserWarning: \"/\" looks like a filename, not markup. You shouldprobably open this file and pass the filehandle intoBeautiful Soup.\n",
      "  'Beautiful Soup.' % markup)\n"
     ]
    },
    {
     "name": "stdout",
     "output_type": "stream",
     "text": [
      "7532\n",
      "[\"[u'v', u'mb', u'k', u'ubvmsd', u'cc', u'buffalo', u'edu', u'neil', u'b', u'gandler', u'subject', u'need', u'info', u'bonneville', u'organization', u'university', u'buffalo', u'lines', u'news', u'software', u'vax', u'vms', u'vnews', u'nntp', u'posting', u'host', u'ubvmsd', u'cc', u'buffalo', u'edu', u'little', u'confused', u'models', u'bonnevilles']\", \"[u'heard', u'le', u'se', u'lse', u'sse', u'ssei']\", \"[u'could', u'someone', u'tell', u'differences', u'far', u'features', u'performance']\", \"[u'also', u'curious', u'know', u'book', u'value', u'prefereably', u'model']\", \"[u'much', u'less', u'book', u'value', u'usually', u'get']\", \"[u'words', u'much', u'demand', u'time', u'year']\", \"[u'heard', u'mid', u'spring', u'early', u'summer', u'best', u'time', u'buy']\", \"[u'neil', u'gandler']\"]\n"
     ]
    }
   ],
   "source": [
    "#train_sentences and test_sentences contain the filtered sentences of training and testing data respectively\n",
    "\n",
    "train_sentences = []  # Initialize an empty list of sentences\n",
    "test_sentences = []\n",
    "\n",
    "print \"Parsing sentences from training set\"\n",
    "for i in range(len(twenty_train.data)):\n",
    "    train_sentences += [[stem(str(word)) for word in sentence] \\\n",
    "                        for sentence in [text_to_sentences(twenty_train.data[i], tokenizer)]]\n",
    "print len(train_sentences)\n",
    "print train_sentences[0]\n",
    "\n",
    "print \"Parsing sentences from unlabeled set\"\n",
    "for i in range(len(twenty_test.data)):\n",
    "    test_sentences += [[stem(str(word)) for word in sentence] \\\n",
    "                       for sentence in [text_to_sentences(twenty_test.data[i], tokenizer)]]\n",
    "print len(test_sentences)\n",
    "print test_sentences[0]"
   ]
  },
  {
   "cell_type": "code",
   "execution_count": 7,
   "metadata": {
    "collapsed": false
   },
   "outputs": [
    {
     "name": "stderr",
     "output_type": "stream",
     "text": [
      "2017-03-23 18:06:31,385 : INFO : collecting all words and their counts\n",
      "2017-03-23 18:06:31,386 : INFO : PROGRESS: at sentence #0, processed 0 words, keeping 0 word types\n",
      "2017-03-23 18:06:31,528 : INFO : PROGRESS: at sentence #10000, processed 166860 words, keeping 130308 word types\n",
      "2017-03-23 18:06:31,547 : INFO : collected 144031 word types from a corpus of 187884 raw words and 11314 sentences\n",
      "2017-03-23 18:06:31,548 : INFO : Loading a fresh vocabulary\n"
     ]
    },
    {
     "name": "stdout",
     "output_type": "stream",
     "text": [
      "Training model...\n"
     ]
    },
    {
     "name": "stderr",
     "output_type": "stream",
     "text": [
      "2017-03-23 18:06:31,641 : INFO : min_count=40 retains 28 unique words (0% of original 144031, drops 144003)\n",
      "2017-03-23 18:06:31,642 : INFO : min_count=40 leaves 7150 word corpus (3% of original 187884, drops 180734)\n",
      "2017-03-23 18:06:31,643 : INFO : deleting the raw counts dictionary of 144031 items\n",
      "2017-03-23 18:06:31,651 : INFO : sample=0.001 downsamples 28 most-common words\n",
      "2017-03-23 18:06:31,655 : INFO : downsampling leaves estimated 1012 word corpus (14.2% of prior 7150)\n",
      "2017-03-23 18:06:31,657 : INFO : estimated required memory for 28 words and 300 dimensions: 81200 bytes\n",
      "2017-03-23 18:06:31,659 : INFO : resetting layer weights\n",
      "2017-03-23 18:06:31,661 : INFO : training model with 4 workers on 28 vocabulary and 300 features, using sg=0 hs=0 sample=0.001 negative=5 window=10\n",
      "2017-03-23 18:06:31,662 : INFO : expecting 11314 sentences, matching count from corpus used for vocabulary survey\n",
      "2017-03-23 18:06:31,912 : INFO : worker thread finished; awaiting finish of 3 more threads\n",
      "2017-03-23 18:06:31,914 : INFO : worker thread finished; awaiting finish of 2 more threads\n",
      "2017-03-23 18:06:31,916 : INFO : worker thread finished; awaiting finish of 1 more threads\n",
      "2017-03-23 18:06:31,917 : INFO : worker thread finished; awaiting finish of 0 more threads\n",
      "2017-03-23 18:06:31,918 : INFO : training on 939420 raw words (5006 effective words) took 0.2s, 20721 effective words/s\n",
      "2017-03-23 18:06:31,920 : INFO : precomputing L2-norms of word weight vectors\n",
      "2017-03-23 18:06:31,921 : INFO : saving Word2Vec object under 300features_40minwords_10context, separately None\n",
      "2017-03-23 18:06:31,922 : INFO : not storing attribute syn0norm\n",
      "2017-03-23 18:06:31,924 : INFO : not storing attribute cum_table\n",
      "2017-03-23 18:06:31,926 : INFO : saved 300features_40minwords_10context\n"
     ]
    }
   ],
   "source": [
    "# Import the built-in logging module and configure it so that Word2Vec \n",
    "# creates nice output messages\n",
    "logging.basicConfig(format='%(asctime)s : %(levelname)s : %(message)s',\\\n",
    "    level=logging.INFO)\n",
    "\n",
    "# Set values for various parameters\n",
    "num_features = 300    # Word vector dimensionality                      \n",
    "min_word_count = 40   # Minimum word count                        \n",
    "num_workers = 4       # Number of threads to run in parallel\n",
    "context = 10          # Context window size                                                                                    \n",
    "downsampling = 1e-3   # Downsample setting for frequent words\n",
    "# Initialize and train the model (this will take some time)\n",
    "\n",
    "print \"Training model...\"\n",
    "model = Word2Vec(train_sentences, workers=num_workers, \\\n",
    "            size=num_features, min_count = min_word_count, \\\n",
    "            window = context, sample = downsampling)\n",
    "\n",
    "# If you don't plan to train the model any further, calling \n",
    "# init_sims will make the model much more memory-efficient.\n",
    "model.init_sims(replace=False)\n",
    "\n",
    "# It can be helpful to create a meaningful model name and \n",
    "# save the model for later use. You can load it later using Word2Vec.load()\n",
    "model_name = \"300features_40minwords_10context\"\n",
    "model.save(model_name)\n",
    "#model.save_word2vec_format(model_name,binary=False)"
   ]
  },
  {
   "cell_type": "code",
   "execution_count": 14,
   "metadata": {
    "collapsed": false
   },
   "outputs": [
    {
     "name": "stdout",
     "output_type": "stream",
     "text": [
      "28\n",
      "Time taken for K Means clustering:  0.0819571018219 seconds.\n"
     ]
    }
   ],
   "source": [
    "print model.wv.syn0.shape[0]\n",
    "# Set \"k\" (num_clusters) to be number of categories in newsgroup dataset\n",
    "word_vectors = model.wv.syn0\n",
    "num_clusters = 20\n",
    "\n",
    "start = time.time()\n",
    "# Initalize a k-means object and use it to extract centroids\n",
    "kmeans_clustering = KMeans( n_clusters = num_clusters )\n",
    "idx = kmeans_clustering.fit_predict( word_vectors )\n",
    "\n",
    "# Get the end time and print how long the process took\n",
    "end = time.time()\n",
    "elapsed = end - start\n",
    "print \"Time taken for K Means clustering: \", elapsed, \"seconds.\""
   ]
  },
  {
   "cell_type": "code",
   "execution_count": 16,
   "metadata": {
    "collapsed": false
   },
   "outputs": [],
   "source": [
    "# Create a Word / Index dictionary, mapping each vocabulary word to\n",
    "# a cluster number                                                                                            \n",
    "word_centroid_map = dict(zip( model.wv.index2word, idx ))"
   ]
  },
  {
   "cell_type": "code",
   "execution_count": 17,
   "metadata": {
    "collapsed": false
   },
   "outputs": [
    {
     "name": "stdout",
     "output_type": "stream",
     "text": [
      "\n",
      "Cluster 0\n",
      "[\"[u'good']\"]\n",
      "\n",
      "Cluster 1\n",
      "['[]']\n",
      "\n",
      "Cluster 2\n",
      "[\"[u'serdar', u'argic', u'closed', u'roads', u'mountain', u'passes', u'might', u'serve', u'ways', u'escape', u'turks', u'proceeded', u'work', u'extermination']\"]\n",
      "\n",
      "Cluster 3\n",
      "[\"[u'really']\", \"[u'e']\"]\n",
      "\n",
      "Cluster 4\n",
      "[\"[u'keith']\", \"[u'article']\"]\n",
      "\n",
      "Cluster 5\n",
      "[\"[u'yes']\"]\n",
      "\n",
      "Cluster 6\n",
      "[\"[u'survivors']\", \"[u'jon']\"]\n",
      "\n",
      "Cluster 7\n",
      "[\"[u'think']\", \"[u'thanks']\"]\n",
      "\n",
      "Cluster 8\n",
      "[\"[u'p']\"]\n",
      "\n",
      "Cluster 9\n",
      "[\"[u'sure']\", \"[u'etc']\", \"[u'know']\"]\n",
      "\n",
      "Cluster 10\n",
      "[\"[u'true']\", \"[u'right']\"]\n",
      "\n",
      "Cluster 11\n",
      "[\"[u'sahak', u'melkonian']\"]\n",
      "\n",
      "Cluster 12\n",
      "[\"[u'ohanus', u'appressian', u'soviet', u'armenia', u'today', u'longer', u'exists', u'single', u'turkish', u'soul']\"]\n",
      "\n",
      "Cluster 13\n",
      "[\"[u'wrong']\"]\n",
      "\n",
      "Cluster 14\n",
      "[\"[u'alink', u'ksand', u'private', u'activities', u'net']\", \"[u'gordon', u'banks', u'n', u'jxp', u'skepticism', u'chastity', u'intellect', u'geb', u'cadre', u'dsl', u'pitt', u'edu', u'shameful', u'surrender', u'soon']\"]\n",
      "\n",
      "Cluster 15\n",
      "[\"[u'clh']\"]\n",
      "\n",
      "Cluster 16\n",
      "[\"[u'thanks', u'advance']\"]\n",
      "\n",
      "Cluster 17\n",
      "[\"[u'thanks', u'help']\"]\n",
      "\n",
      "Cluster 18\n",
      "[\"[u'see']\"]\n",
      "\n",
      "Cluster 19\n",
      "[\"[u'thank']\"]\n"
     ]
    }
   ],
   "source": [
    "for cluster in range(num_clusters):\n",
    "    #\n",
    "    # Print the cluster number  \n",
    "    print \"\\nCluster %d\" % cluster\n",
    "    #\n",
    "    # Find all of the words for that cluster number, and print them out\n",
    "    words = []\n",
    "    for i in xrange(0,len(word_centroid_map.values())):\n",
    "        if( word_centroid_map.values()[i] == cluster ):\n",
    "            words.append(word_centroid_map.keys()[i])\n",
    "    print words"
   ]
  },
  {
   "cell_type": "code",
   "execution_count": 18,
   "metadata": {
    "collapsed": true
   },
   "outputs": [],
   "source": [
    "#This function will give us a numpy array for each news, each with a number of features equal to the number of clusters. \n",
    "def create_bag_of_centroids( wordlist, word_centroid_map ):\n",
    "    #\n",
    "    # The number of clusters is equal to the highest cluster index\n",
    "    # in the word / centroid map\n",
    "    num_centroids = max( word_centroid_map.values() ) + 1\n",
    "    #\n",
    "    # Pre-allocate the bag of centroids vector (for speed)\n",
    "    bag_of_centroids = np.zeros( num_centroids, dtype=\"float32\" )\n",
    "    #\n",
    "    # Loop over the words in the news. If the word is in the vocabulary,\n",
    "    # find which cluster it belongs to, and increment that cluster count \n",
    "    # by one\n",
    "    for word in wordlist:\n",
    "        if word in word_centroid_map:\n",
    "            index = word_centroid_map[word]\n",
    "            bag_of_centroids[index] += 1\n",
    "    #\n",
    "    # Return the \"bag of centroids\"\n",
    "    return bag_of_centroids"
   ]
  },
  {
   "cell_type": "code",
   "execution_count": 22,
   "metadata": {
    "collapsed": false
   },
   "outputs": [
    {
     "name": "stdout",
     "output_type": "stream",
     "text": [
      "Fitting a random forest to labeled training data...\n",
      "0.0886882634095\n"
     ]
    }
   ],
   "source": [
    "# Pre-allocate an array for the training set bags of centroids (for speed)\n",
    "train_centroids = np.zeros( ( len(twenty_train.data), num_clusters), \\\n",
    "    dtype=\"float32\" )\n",
    "\n",
    "# Transform the training set news into bags of centroids\n",
    "counter = 0\n",
    "for sentence in train_sentences:\n",
    "    train_centroids[counter] = create_bag_of_centroids( sentence, \\\n",
    "        word_centroid_map )\n",
    "    counter += 1\n",
    "\n",
    "# Repeat for test news data \n",
    "test_centroids = np.zeros(( len(twenty_test.data), num_clusters), \\\n",
    "    dtype=\"float32\" )\n",
    "\n",
    "counter = 0\n",
    "for sentence in test_sentences:\n",
    "    test_centroids[counter] = create_bag_of_centroids( sentence, \\\n",
    "        word_centroid_map )\n",
    "    counter += 1\n",
    "\n",
    "# Fit a random forest and extract predictions \n",
    "forest = RandomForestClassifier(n_estimators = 100)\n",
    "\n",
    "# Fitting the forest may take a few minutes\n",
    "print \"Fitting a random forest to labeled training data...\"\n",
    "forest = forest.fit(train_centroids,twenty_train.target)\n",
    "result = forest.predict(test_centroids)\n",
    "\n",
    "print np.mean(result==twenty_test.target)"
   ]
  }
 ],
 "metadata": {
  "kernelspec": {
   "display_name": "Python 2",
   "language": "python",
   "name": "python2"
  },
  "language_info": {
   "codemirror_mode": {
    "name": "ipython",
    "version": 2
   },
   "file_extension": ".py",
   "mimetype": "text/x-python",
   "name": "python",
   "nbconvert_exporter": "python",
   "pygments_lexer": "ipython2",
   "version": "2.7.13"
  }
 },
 "nbformat": 4,
 "nbformat_minor": 2
}
