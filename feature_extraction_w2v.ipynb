{
 "cells": [
  {
   "cell_type": "code",
   "execution_count": 88,
   "metadata": {
    "collapsed": false
   },
   "outputs": [],
   "source": [
    "from sklearn.datasets import fetch_20newsgroups\n",
    "import nltk.data\n",
    "from bs4 import BeautifulSoup\n",
    "import re\n",
    "from nltk.corpus import stopwords\n",
    "import logging\n",
    "from gensim.models import Word2Vec,KeyedVectors\n",
    "import numpy as np\n",
    "from sklearn.ensemble import RandomForestClassifier\n",
    "import pandas as pd\n",
    "from nltk.stem.porter import PorterStemmer\n",
    "from stemming.porter2 import stem\n",
    "from sklearn.neighbors import KNeighborsClassifier\n",
    "from sklearn import svm"
   ]
  },
  {
   "cell_type": "code",
   "execution_count": 10,
   "metadata": {
    "collapsed": false
   },
   "outputs": [
    {
     "name": "stdout",
     "output_type": "stream",
     "text": [
      "From: lerxst@wam.umd.edu (where's my thing)\n",
      "Subject: WHAT car is this!?\n",
      "Nntp-Posting-Host: rac3.wam.umd.edu\n",
      "rec.autos\n"
     ]
    }
   ],
   "source": [
    "#loading the news dataset from sklearn dataset library\n",
    "twenty_train = fetch_20newsgroups(subset='train',shuffle=True, random_state=42)\n",
    "twenty_test = fetch_20newsgroups(subset='test', shuffle=True, random_state=42)\n",
    "\n",
    "# tokenize to sentences based on the notations followed in english literature\n",
    "tokenizer = nltk.data.load('tokenizers/punkt/english.pickle')\n",
    "print(\"\\n\".join(twenty_train.data[0].split(\"\\n\")[:3]))\n",
    "print(twenty_train.target_names[twenty_train.target[0]])"
   ]
  },
  {
   "cell_type": "code",
   "execution_count": 11,
   "metadata": {
    "collapsed": true
   },
   "outputs": [],
   "source": [
    "# function to parse sentences to words and remove stopwords from sentence\n",
    "def sentence_to_wordlist( sentence, remove_stopwords=True ):\n",
    "    # Function to convert a document to a sequence of words,\n",
    "    # optionally removing stop words.  Returns a list of words.\n",
    "    #\n",
    "    # 1. Remove HTML\n",
    "    text = BeautifulSoup(sentence).get_text()\n",
    "    #  \n",
    "    # 2. Remove non-letters\n",
    "    text = re.sub(\"[^a-zA-Z]\",\" \",text)\n",
    "    #\n",
    "    # 3. Convert words to lower case and split them\n",
    "    words = text.lower().split()\n",
    "    #\n",
    "    # 4. Optionally remove stop words (false by default)\n",
    "    if remove_stopwords:\n",
    "        stops = set(stopwords.words(\"english\"))\n",
    "        words = [w for w in words if not w in stops]\n",
    "    #\n",
    "    # 5. Return a list of words\n",
    "    return(words)"
   ]
  },
  {
   "cell_type": "code",
   "execution_count": 12,
   "metadata": {
    "collapsed": true
   },
   "outputs": [],
   "source": [
    "# function to parse text to sentences using tokenizer mentioned above\n",
    "def text_to_sentences(text,tokenizer,remove_stopwords=True):\n",
    "    raw_sentences = tokenizer.tokenize(text.strip())\n",
    "    sentences = []\n",
    "    for raw_sentence in raw_sentences:\n",
    "        # If a sentence is empty, skip it\n",
    "        if len(raw_sentence) > 0:\n",
    "            # Otherwise, call review_to_wordlist to get a list of words\n",
    "            sentences.append( sentence_to_wordlist( raw_sentence, \\\n",
    "              remove_stopwords ))\n",
    "    #\n",
    "    # Return the list of sentences (each sentence is a list of words,\n",
    "    # so this returns a list of lists\n",
    "    return sentences"
   ]
  },
  {
   "cell_type": "code",
   "execution_count": 15,
   "metadata": {
    "collapsed": false
   },
   "outputs": [
    {
     "name": "stdout",
     "output_type": "stream",
     "text": [
      "Parsing sentences from training set\n",
      "11314\n",
      "[\"[u'lerxst', u'wam', u'umd', u'edu', u'thing', u'subject', u'car']\", \"[u'nntp', u'posting', u'host', u'rac', u'wam', u'umd', u'edu', u'organization', u'university', u'maryland', u'college', u'park', u'lines', u'wondering', u'anyone', u'could', u'enlighten', u'car', u'saw', u'day']\", \"[u'door', u'sports', u'car', u'looked', u'late', u'early']\", \"[u'called', u'bricklin']\", \"[u'doors', u'really', u'small']\", \"[u'addition', u'front', u'bumper', u'separate', u'rest', u'body']\", \"[u'know']\", \"[u'anyone', u'tellme', u'model', u'name', u'engine', u'specs', u'years', u'production', u'car', u'made', u'history', u'whatever', u'info', u'funky', u'looking', u'car', u'please', u'e', u'mail']\", \"[u'thanks', u'il', u'brought', u'neighborhood', u'lerxst']\"]\n",
      "Parsing sentences from unlabeled set\n",
      "7532\n",
      "[\"[u'v', u'mb', u'k', u'ubvmsd', u'cc', u'buffalo', u'edu', u'neil', u'b', u'gandler', u'subject', u'need', u'info', u'bonneville', u'organization', u'university', u'buffalo', u'lines', u'news', u'software', u'vax', u'vms', u'vnews', u'nntp', u'posting', u'host', u'ubvmsd', u'cc', u'buffalo', u'edu', u'little', u'confused', u'models', u'bonnevilles']\", \"[u'heard', u'le', u'se', u'lse', u'sse', u'ssei']\", \"[u'could', u'someone', u'tell', u'differences', u'far', u'features', u'performance']\", \"[u'also', u'curious', u'know', u'book', u'value', u'prefereably', u'model']\", \"[u'much', u'less', u'book', u'value', u'usually', u'get']\", \"[u'words', u'much', u'demand', u'time', u'year']\", \"[u'heard', u'mid', u'spring', u'early', u'summer', u'best', u'time', u'buy']\", \"[u'neil', u'gandler']\"]\n"
     ]
    }
   ],
   "source": [
    "#train_sentences and test_sentences contain the filtered sentences of training and testing data respectively\n",
    "\n",
    "train_sentences = []  # Initialize an empty list of sentences\n",
    "test_sentences = []\n",
    "\n",
    "print \"Parsing sentences from training set\"\n",
    "for i in range(len(twenty_train.data)):\n",
    "    train_sentences += [[stem(str(word)) for word in sentence] \\\n",
    "                        for sentence in [text_to_sentences(twenty_train.data[i], tokenizer)]]\n",
    "print len(train_sentences)\n",
    "print train_sentences[0]\n",
    "\n",
    "print \"Parsing sentences from unlabeled set\"\n",
    "for i in range(len(twenty_test.data)):\n",
    "    test_sentences += [[stem(str(word)) for word in sentence] \\\n",
    "                       for sentence in [text_to_sentences(twenty_test.data[i], tokenizer)]]\n",
    "print len(test_sentences)\n",
    "print test_sentences[0]"
   ]
  },
  {
   "cell_type": "code",
   "execution_count": 16,
   "metadata": {
    "collapsed": false
   },
   "outputs": [
    {
     "name": "stderr",
     "output_type": "stream",
     "text": [
      "2017-03-22 16:53:01,857 : INFO : collecting all words and their counts\n",
      "2017-03-22 16:53:01,859 : INFO : PROGRESS: at sentence #0, processed 0 words, keeping 0 word types\n"
     ]
    },
    {
     "name": "stdout",
     "output_type": "stream",
     "text": [
      "Training model...\n"
     ]
    },
    {
     "name": "stderr",
     "output_type": "stream",
     "text": [
      "2017-03-22 16:53:02,497 : INFO : PROGRESS: at sentence #10000, processed 166860 words, keeping 130308 word types\n",
      "2017-03-22 16:53:02,515 : INFO : collected 144031 word types from a corpus of 187884 raw words and 11314 sentences\n",
      "2017-03-22 16:53:02,516 : INFO : Loading a fresh vocabulary\n",
      "2017-03-22 16:53:02,616 : INFO : min_count=40 retains 28 unique words (0% of original 144031, drops 144003)\n",
      "2017-03-22 16:53:02,617 : INFO : min_count=40 leaves 7150 word corpus (3% of original 187884, drops 180734)\n",
      "2017-03-22 16:53:02,853 : INFO : deleting the raw counts dictionary of 144031 items\n",
      "2017-03-22 16:53:02,861 : INFO : sample=0.001 downsamples 28 most-common words\n",
      "2017-03-22 16:53:02,863 : INFO : downsampling leaves estimated 1012 word corpus (14.2% of prior 7150)\n",
      "2017-03-22 16:53:02,864 : INFO : estimated required memory for 28 words and 300 dimensions: 81200 bytes\n",
      "2017-03-22 16:53:02,881 : INFO : resetting layer weights\n",
      "2017-03-22 16:53:02,904 : INFO : training model with 4 workers on 28 vocabulary and 300 features, using sg=0 hs=0 sample=0.001 negative=5 window=10\n",
      "2017-03-22 16:53:02,906 : INFO : expecting 11314 sentences, matching count from corpus used for vocabulary survey\n",
      "2017-03-22 16:53:03,709 : INFO : worker thread finished; awaiting finish of 3 more threads\n",
      "2017-03-22 16:53:03,710 : INFO : worker thread finished; awaiting finish of 2 more threads\n",
      "2017-03-22 16:53:03,711 : INFO : worker thread finished; awaiting finish of 1 more threads\n",
      "2017-03-22 16:53:03,712 : INFO : worker thread finished; awaiting finish of 0 more threads\n",
      "2017-03-22 16:53:03,713 : INFO : training on 939420 raw words (4908 effective words) took 0.7s, 7424 effective words/s\n",
      "2017-03-22 16:53:03,714 : INFO : precomputing L2-norms of word weight vectors\n",
      "2017-03-22 16:53:03,828 : INFO : saving Word2Vec object under 300features_40minwords_10context, separately None\n",
      "2017-03-22 16:53:03,845 : INFO : not storing attribute syn0norm\n",
      "2017-03-22 16:53:03,847 : INFO : not storing attribute cum_table\n",
      "2017-03-22 16:53:04,041 : INFO : saved 300features_40minwords_10context\n"
     ]
    }
   ],
   "source": [
    "# Import the built-in logging module and configure it so that Word2Vec \n",
    "# creates nice output messages\n",
    "logging.basicConfig(format='%(asctime)s : %(levelname)s : %(message)s',\\\n",
    "    level=logging.INFO)\n",
    "\n",
    "# Set values for various parameters\n",
    "num_features = 300    # Word vector dimensionality                      \n",
    "min_word_count = 40   # Minimum word count                        \n",
    "num_workers = 4       # Number of threads to run in parallel\n",
    "context = 10          # Context window size                                                                                    \n",
    "downsampling = 1e-3   # Downsample setting for frequent words\n",
    "# Initialize and train the model (this will take some time)\n",
    "\n",
    "print \"Training model...\"\n",
    "model = Word2Vec(train_sentences, workers=num_workers, \\\n",
    "            size=num_features, min_count = min_word_count, \\\n",
    "            window = context, sample = downsampling)\n",
    "\n",
    "# If you don't plan to train the model any further, calling \n",
    "# init_sims will make the model much more memory-efficient.\n",
    "model.init_sims(replace=False)\n",
    "\n",
    "# It can be helpful to create a meaningful model name and \n",
    "# save the model for later use. You can load it later using Word2Vec.load()\n",
    "model_name = \"300features_40minwords_10context\"\n",
    "model.save(model_name)\n",
    "#model.save_word2vec_format(model_name,binary=False)"
   ]
  },
  {
   "cell_type": "code",
   "execution_count": null,
   "metadata": {
    "collapsed": false
   },
   "outputs": [],
   "source": [
    "#print model.syn0.shape\n",
    "# model.wv is defined using keyedVectors\n",
    "print model.wv.most_similar(\"car\")\n",
    "#print len(model.vocab)"
   ]
  },
  {
   "cell_type": "code",
   "execution_count": 103,
   "metadata": {
    "collapsed": false
   },
   "outputs": [],
   "source": [
    "def makeFeatureVec(words,model,num_features):\n",
    "    # Function to average all of the word vectors in a given\n",
    "    # paragraph\n",
    "    #\n",
    "    # Pre-initialize an empty numpy array (for speed)\n",
    "    featureVec = np.zeros((num_features,),dtype=\"float128\")\n",
    "    #\n",
    "    nwords = 0.\n",
    "    # \n",
    "    # Index2word is a list that contains the names of the words in \n",
    "    # the model's vocabulary. Convert it to a set, for speed \n",
    "    index2word_set = set(model.wv.index2word)\n",
    "    #sorted_set = set(model.sort_vocab())\n",
    "    #\n",
    "    # Loop over each word in the review and, if it is in the model's\n",
    "    # vocaublary, add its feature vector to the total\n",
    "    for word in words:\n",
    "        if word in index2word_set: \n",
    "            nwords = nwords + 1.\n",
    "            featureVec = np.add(featureVec,model[word])\n",
    "    # \n",
    "    # Divide the result by the number of words to get the average\n",
    "    featureVec = np.divide(featureVec,nwords)\n",
    "    return featureVec"
   ]
  },
  {
   "cell_type": "code",
   "execution_count": 104,
   "metadata": {
    "collapsed": true
   },
   "outputs": [],
   "source": [
    "def getAvgFeatureVecs(reviews, model, num_features):\n",
    "    # Given a set of reviews (each one a list of words), calculate \n",
    "    # the average feature vector for each one and return a 2D numpy array \n",
    "    # \n",
    "    # Initialize a counter\n",
    "    counter = 0.\n",
    "    # \n",
    "    # Preallocate a 2D numpy array, for speed\n",
    "    reviewFeatureVecs = np.zeros((len(reviews),num_features),dtype=\"float128\")\n",
    "    # \n",
    "    # Loop through the reviews\n",
    "    for review in reviews:\n",
    "    # Print a status message every 1000th review\n",
    "        if counter%1000. == 0.:\n",
    "            print \"Review %d of %d\" % (counter, len(reviews))\n",
    "\n",
    "    # Call the function (defined above) that makes average feature vectors\n",
    "        reviewFeatureVecs[counter] = makeFeatureVec(review, model, \\\n",
    "           num_features)\n",
    "    # Increment the counter\n",
    "        counter = counter + 1.\n",
    "    return reviewFeatureVecs"
   ]
  },
  {
   "cell_type": "code",
   "execution_count": 105,
   "metadata": {
    "collapsed": false
   },
   "outputs": [
    {
     "name": "stdout",
     "output_type": "stream",
     "text": [
      "Review 0 of 11314\n",
      "Review 1000 of 11314\n",
      "Review 2000 of 11314\n",
      "Review 3000 of 11314\n"
     ]
    },
    {
     "name": "stderr",
     "output_type": "stream",
     "text": [
      "/home/dell/anaconda2/lib/python2.7/site-packages/ipykernel/__main__.py:23: RuntimeWarning: invalid value encountered in divide\n"
     ]
    },
    {
     "name": "stdout",
     "output_type": "stream",
     "text": [
      "Review 4000 of 11314\n",
      "Review 5000 of 11314\n",
      "Review 6000 of 11314\n",
      "Review 7000 of 11314\n",
      "Review 8000 of 11314\n",
      "Review 9000 of 11314\n",
      "Review 10000 of 11314\n",
      "Review 11000 of 11314\n",
      "Review 0 of 7532\n",
      "Review 1000 of 7532\n",
      "Review 2000 of 7532\n",
      "Review 3000 of 7532\n",
      "Review 4000 of 7532\n",
      "Review 5000 of 7532\n",
      "Review 6000 of 7532\n",
      "Review 7000 of 7532\n"
     ]
    }
   ],
   "source": [
    "# Calculate average feature vectors for training and testing sets,\n",
    "# using the functions we defined above. \n",
    "\n",
    "trainDataVecs = getAvgFeatureVecs( train_sentences, model, num_features )\n",
    "testDataVecs = getAvgFeatureVecs( test_sentences, model, num_features )"
   ]
  },
  {
   "cell_type": "code",
   "execution_count": 106,
   "metadata": {
    "collapsed": false,
    "scrolled": false
   },
   "outputs": [
    {
     "name": "stdout",
     "output_type": "stream",
     "text": [
      "[ 0.0017914181  0.00045829749 -0.0011988715 -0.0014944462  7.9838377e-05\n",
      "  0.0008076072  0.00055176084 -0.0014577545  0.0020071978  0.0019292455\n",
      "  0.0012856046 -0.0022874423 -0.00040315054  0.0018680559  0.00099064375\n",
      "  0.0012036987 -0.0011523856  1.4033991e-05  0.00055946677  0.0011840842\n",
      "  0.0012771272 -0.00032269457 -0.00051568495  0.0011304863  0.00014196549\n",
      " -0.00071088393  0.0010496145 -0.00042162504  0.0013276864 -0.00055119634\n",
      " -0.00030553734 -0.0011083321 -0.0020648804  0.0013676631  0.0015148928\n",
      " -0.001185488  0.00068430789 -0.00064016914  0.00050516997 -2.1113752e-05\n",
      "  6.0231068e-05  0.0012498369 -6.6119872e-05 -0.00089587824  0.00055207242\n",
      "  0.00074021035  0.0018263939  0.0010504036 -0.00034734813  7.5800192e-05\n",
      " -0.0012240779  0.0016564614  0.00041699511  0.0017040828  0.0012606456\n",
      " -0.00020225953 -0.00022171278 -0.00068254716 -0.002163365  9.2205315e-05\n",
      " -0.00016372518  0.00044649004  1.054918e-05  0.0013885001 -0.0018665136\n",
      "  0.001020532 -0.00037337586 -0.0009401344 -0.00046539583  0.00091695733\n",
      " -0.00086851063 -0.00040691547 -0.00118259  0.0010165387  0.0018231778\n",
      " -0.0001406107  0.0014631202  0.00096100743 -0.00032441248 -0.0012937221\n",
      "  3.7326558e-05  0.00084431446  0.001628116  0.0016997831 -0.0018702204\n",
      " -0.0008442261  0.00077637919  0.0013943164 -0.0025234981  0.00056092796\n",
      "  0.0015352285 -0.00076428201 -0.00068956817  0.00082274323 -0.00024496642\n",
      "  0.0015438778 -0.0012094704  0.0012685953 -0.0016475155 -0.0017077255\n",
      "  0.0011750327 -0.00085801503 -0.00061619596  0.00075936399  0.0015524591\n",
      "  0.0012561082 -0.00023523583  0.0009169383  0.0010852909  0.0012307659\n",
      "  0.0006801305  0.0012098217  0.0013206304  0.00019649664 -0.0021883838\n",
      "  0.00059397757  0.00045960592  0.00080805295 -0.0013797614 -0.00020638735\n",
      " -0.0011753709 -0.0011142623 -0.00051764201  0.0011291956  0.00012837254\n",
      " -4.5105895e-05  0.00075039075 -0.00022743121  0.00072954956  0.00042378507\n",
      " -0.0010791539 -0.0013222821  0.0022448124 -0.0013108077 -0.001233322\n",
      " -0.0023873169 -3.7802129e-05 -0.0019338049  0.00031874914  0.00025490636\n",
      "  0.0015471571  0.00053212402 -4.960904e-05 -0.00077574834 -0.00064544869\n",
      "  0.0017523813 -0.0011843733  0.00080367638 -0.00040017563 -0.00088036485\n",
      "  7.1552808e-05  0.0011199757  0.00049466838 -0.00077332067 -0.00092135719\n",
      " -0.00072653266 -0.00014263082 -0.0025562686  0.00087793457 -0.0017426354\n",
      " -0.0017915097  0.00071884599 -0.00019028914  0.0014465237  0.0013994857\n",
      " -0.0019025548 -0.0018285266  0.00053860259  0.0003955242 -0.0010906021\n",
      " -0.00029467687 -0.00052744307 -0.00036031089 -0.00037024845  0.00032354082\n",
      "  0.0015586696  0.00041131952  0.00023097766 -0.0020638362  0.00051670661\n",
      " -8.0881495e-05  0.001679164 -0.0009576474 -0.00082538486 -0.00038998731\n",
      " -0.0012020516 -0.0011643926  0.002844722 -0.0013975954 -0.00028234997\n",
      "  0.0020161392  0.00015770449  0.0011491997  0.0011065555  8.7047789e-05\n",
      " -0.00077804312  0.0019464883  0.0019554438  0.0016283772  0.0020969487\n",
      " -0.0012496754  0.00060244458  0.0020565782 -1.9336337e-06 -0.00080666534\n",
      " -0.0012049552  0.00081975135  0.0012605322 -0.0011669409 -0.0006876142\n",
      " -0.0016334505 -0.00073669769  0.0008509279  0.00079896557  0.0019997293\n",
      " -0.0010047646 -0.0007070509 -0.00031048249  0.0011229651 -0.0017949621\n",
      " -0.0005574525  0.00011629856  0.00056427682  0.0020783283  0.00022550837\n",
      "  0.0011590626  0.0016306705 -0.0001030924 -0.00058090308 -0.001342376\n",
      "  0.00018832769  0.0012393327 -0.00028147141 -0.0007238437  0.0018936303\n",
      "  0.0011655291  0.00030546059 -0.00013343737 -0.00065046444  0.00083042693\n",
      "  0.00056798424 -0.0015034208 -0.00016239546  0.00059724139 -0.0024554925\n",
      "  0.0018767336 -0.00028875648 -0.0014039758  0.0021956207  0.0015759008\n",
      "  0.00041135232  0.00079818483 -0.0015775274 -0.00087241724 -2.0171932e-05\n",
      " -0.0004119979 -0.00023294779 -0.0011430092  0.00065122888 -0.0014402355\n",
      " -2.6451427e-05 -0.0019745245  0.002057849 -9.3066355e-06 -0.00082959561\n",
      " -0.0010961499 -0.00088310521  0.00085422595  0.00088596932  0.00088190968\n",
      " -0.00014237843  0.0018085679 -0.00034493214 -0.00060224946 -0.0007543891\n",
      " -0.00046200259 -0.0015241121  0.00079907366 -0.00069753203 -0.0015988757\n",
      " -0.0010237795 -0.00085528474 -0.00024192123  7.4009695e-05 -0.0020298285\n",
      " -0.00070264266 -0.0016728153 -0.0013995152  0.00013912391  7.2538394e-05\n",
      "  0.00014896046  0.00074689992 -0.00022617598 -0.00073198823 -0.00042801211\n",
      "  0.001551672 -0.00048244116 -0.0013756111 -0.00046785866 -0.00036118578]\n",
      "Fitting a random forest to labeled training data...\n"
     ]
    },
    {
     "ename": "ValueError",
     "evalue": "Input contains NaN, infinity or a value too large for dtype('float64').",
     "output_type": "error",
     "traceback": [
      "\u001b[0;31m---------------------------------------------------------------------------\u001b[0m",
      "\u001b[0;31mValueError\u001b[0m                                Traceback (most recent call last)",
      "\u001b[0;32m<ipython-input-106-ea34f06caada>\u001b[0m in \u001b[0;36m<module>\u001b[0;34m()\u001b[0m\n\u001b[1;32m     16\u001b[0m \u001b[0;32mprint\u001b[0m \u001b[0;34m\"Fitting a random forest to labeled training data...\"\u001b[0m\u001b[0;34m\u001b[0m\u001b[0m\n\u001b[1;32m     17\u001b[0m \u001b[0;31m#forest = forest.fit( trainDataVecs, twenty_train.target )\u001b[0m\u001b[0;34m\u001b[0m\u001b[0;34m\u001b[0m\u001b[0m\n\u001b[0;32m---> 18\u001b[0;31m \u001b[0mclf\u001b[0m \u001b[0;34m=\u001b[0m \u001b[0mclf\u001b[0m\u001b[0;34m.\u001b[0m\u001b[0mfit\u001b[0m\u001b[0;34m(\u001b[0m\u001b[0mtrainDataVecs\u001b[0m\u001b[0;34m,\u001b[0m\u001b[0mtwenty_train\u001b[0m\u001b[0;34m.\u001b[0m\u001b[0mtarget\u001b[0m\u001b[0;34m)\u001b[0m\u001b[0;34m\u001b[0m\u001b[0m\n\u001b[0m\u001b[1;32m     19\u001b[0m \u001b[0;31m# Test & extract results\u001b[0m\u001b[0;34m\u001b[0m\u001b[0;34m\u001b[0m\u001b[0m\n\u001b[1;32m     20\u001b[0m \u001b[0;31m#result = forest.predict( testDataVecs )\u001b[0m\u001b[0;34m\u001b[0m\u001b[0;34m\u001b[0m\u001b[0m\n",
      "\u001b[0;32m/home/dell/anaconda2/lib/python2.7/site-packages/sklearn/svm/base.pyc\u001b[0m in \u001b[0;36mfit\u001b[0;34m(self, X, y, sample_weight)\u001b[0m\n\u001b[1;32m    149\u001b[0m         \u001b[0mself\u001b[0m\u001b[0;34m.\u001b[0m\u001b[0m_sparse\u001b[0m \u001b[0;34m=\u001b[0m \u001b[0msparse\u001b[0m \u001b[0;32mand\u001b[0m \u001b[0;32mnot\u001b[0m \u001b[0mcallable\u001b[0m\u001b[0;34m(\u001b[0m\u001b[0mself\u001b[0m\u001b[0;34m.\u001b[0m\u001b[0mkernel\u001b[0m\u001b[0;34m)\u001b[0m\u001b[0;34m\u001b[0m\u001b[0m\n\u001b[1;32m    150\u001b[0m \u001b[0;34m\u001b[0m\u001b[0m\n\u001b[0;32m--> 151\u001b[0;31m         \u001b[0mX\u001b[0m\u001b[0;34m,\u001b[0m \u001b[0my\u001b[0m \u001b[0;34m=\u001b[0m \u001b[0mcheck_X_y\u001b[0m\u001b[0;34m(\u001b[0m\u001b[0mX\u001b[0m\u001b[0;34m,\u001b[0m \u001b[0my\u001b[0m\u001b[0;34m,\u001b[0m \u001b[0mdtype\u001b[0m\u001b[0;34m=\u001b[0m\u001b[0mnp\u001b[0m\u001b[0;34m.\u001b[0m\u001b[0mfloat64\u001b[0m\u001b[0;34m,\u001b[0m \u001b[0morder\u001b[0m\u001b[0;34m=\u001b[0m\u001b[0;34m'C'\u001b[0m\u001b[0;34m,\u001b[0m \u001b[0maccept_sparse\u001b[0m\u001b[0;34m=\u001b[0m\u001b[0;34m'csr'\u001b[0m\u001b[0;34m)\u001b[0m\u001b[0;34m\u001b[0m\u001b[0m\n\u001b[0m\u001b[1;32m    152\u001b[0m         \u001b[0my\u001b[0m \u001b[0;34m=\u001b[0m \u001b[0mself\u001b[0m\u001b[0;34m.\u001b[0m\u001b[0m_validate_targets\u001b[0m\u001b[0;34m(\u001b[0m\u001b[0my\u001b[0m\u001b[0;34m)\u001b[0m\u001b[0;34m\u001b[0m\u001b[0m\n\u001b[1;32m    153\u001b[0m \u001b[0;34m\u001b[0m\u001b[0m\n",
      "\u001b[0;32m/home/dell/anaconda2/lib/python2.7/site-packages/sklearn/utils/validation.pyc\u001b[0m in \u001b[0;36mcheck_X_y\u001b[0;34m(X, y, accept_sparse, dtype, order, copy, force_all_finite, ensure_2d, allow_nd, multi_output, ensure_min_samples, ensure_min_features, y_numeric, warn_on_dtype, estimator)\u001b[0m\n\u001b[1;32m    519\u001b[0m     X = check_array(X, accept_sparse, dtype, order, copy, force_all_finite,\n\u001b[1;32m    520\u001b[0m                     \u001b[0mensure_2d\u001b[0m\u001b[0;34m,\u001b[0m \u001b[0mallow_nd\u001b[0m\u001b[0;34m,\u001b[0m \u001b[0mensure_min_samples\u001b[0m\u001b[0;34m,\u001b[0m\u001b[0;34m\u001b[0m\u001b[0m\n\u001b[0;32m--> 521\u001b[0;31m                     ensure_min_features, warn_on_dtype, estimator)\n\u001b[0m\u001b[1;32m    522\u001b[0m     \u001b[0;32mif\u001b[0m \u001b[0mmulti_output\u001b[0m\u001b[0;34m:\u001b[0m\u001b[0;34m\u001b[0m\u001b[0m\n\u001b[1;32m    523\u001b[0m         y = check_array(y, 'csr', force_all_finite=True, ensure_2d=False,\n",
      "\u001b[0;32m/home/dell/anaconda2/lib/python2.7/site-packages/sklearn/utils/validation.pyc\u001b[0m in \u001b[0;36mcheck_array\u001b[0;34m(array, accept_sparse, dtype, order, copy, force_all_finite, ensure_2d, allow_nd, ensure_min_samples, ensure_min_features, warn_on_dtype, estimator)\u001b[0m\n\u001b[1;32m    405\u001b[0m                              % (array.ndim, estimator_name))\n\u001b[1;32m    406\u001b[0m         \u001b[0;32mif\u001b[0m \u001b[0mforce_all_finite\u001b[0m\u001b[0;34m:\u001b[0m\u001b[0;34m\u001b[0m\u001b[0m\n\u001b[0;32m--> 407\u001b[0;31m             \u001b[0m_assert_all_finite\u001b[0m\u001b[0;34m(\u001b[0m\u001b[0marray\u001b[0m\u001b[0;34m)\u001b[0m\u001b[0;34m\u001b[0m\u001b[0m\n\u001b[0m\u001b[1;32m    408\u001b[0m \u001b[0;34m\u001b[0m\u001b[0m\n\u001b[1;32m    409\u001b[0m     \u001b[0mshape_repr\u001b[0m \u001b[0;34m=\u001b[0m \u001b[0m_shape_repr\u001b[0m\u001b[0;34m(\u001b[0m\u001b[0marray\u001b[0m\u001b[0;34m.\u001b[0m\u001b[0mshape\u001b[0m\u001b[0;34m)\u001b[0m\u001b[0;34m\u001b[0m\u001b[0m\n",
      "\u001b[0;32m/home/dell/anaconda2/lib/python2.7/site-packages/sklearn/utils/validation.pyc\u001b[0m in \u001b[0;36m_assert_all_finite\u001b[0;34m(X)\u001b[0m\n\u001b[1;32m     56\u001b[0m             and not np.isfinite(X).all()):\n\u001b[1;32m     57\u001b[0m         raise ValueError(\"Input contains NaN, infinity\"\n\u001b[0;32m---> 58\u001b[0;31m                          \" or a value too large for %r.\" % X.dtype)\n\u001b[0m\u001b[1;32m     59\u001b[0m \u001b[0;34m\u001b[0m\u001b[0m\n\u001b[1;32m     60\u001b[0m \u001b[0;34m\u001b[0m\u001b[0m\n",
      "\u001b[0;31mValueError\u001b[0m: Input contains NaN, infinity or a value too large for dtype('float64')."
     ]
    }
   ],
   "source": [
    "#trainDataVecs = np.around(trainDataVecs,decimals=4)\n",
    "print trainDataVecs[0]\n",
    "\n",
    "#testDataVecs = np.round(testDataVecs,decimals =4)\n",
    "\n",
    "# Fit a random forest to the training data, using 100 trees\n",
    "\n",
    "df_train = pd.DataFrame(trainDataVecs)\n",
    "df_test = pd.DataFrame(testDataVecs)\n",
    "train_data = df_train.fillna(lambda x: x.median(),inplace=True)\n",
    "test_data = df_test.fillna(lambda x: x.median(),inplace=True)\n",
    "trainDataVecs = np.array(train_data)\n",
    "testDataVecs = np.array(test_data)\n",
    "#forest = RandomForestClassifier( n_estimators = 100 )\n",
    "clf = svm.SVC()\n",
    "print \"Fitting a random forest to labeled training data...\"\n",
    "#forest = forest.fit( trainDataVecs, twenty_train.target )\n",
    "clf = clf.fit(trainDataVecs,twenty_train.target)\n",
    "# Test & extract results \n",
    "#result = forest.predict( testDataVecs )\n",
    "result = clf.predict(testDataVecs)\n",
    "print (np.mean(result == twenty_test.target))\n"
   ]
  }
 ],
 "metadata": {
  "kernelspec": {
   "display_name": "Python 2",
   "language": "python",
   "name": "python2"
  },
  "language_info": {
   "codemirror_mode": {
    "name": "ipython",
    "version": 2
   },
   "file_extension": ".py",
   "mimetype": "text/x-python",
   "name": "python",
   "nbconvert_exporter": "python",
   "pygments_lexer": "ipython2",
   "version": "2.7.13"
  }
 },
 "nbformat": 4,
 "nbformat_minor": 2
}
