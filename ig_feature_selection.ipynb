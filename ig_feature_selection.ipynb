{
 "cells": [
  {
   "cell_type": "code",
   "execution_count": 15,
   "metadata": {
    "collapsed": true
   },
   "outputs": [],
   "source": [
    "from sklearn.datasets import fetch_20newsgroups\n",
    "import nltk.data\n",
    "from bs4 import BeautifulSoup\n",
    "import re\n",
    "from nltk.corpus import stopwords\n",
    "import logging\n",
    "from gensim.models import Word2Vec,KeyedVectors\n",
    "import numpy as np\n",
    "from sklearn.ensemble import RandomForestClassifier\n",
    "import pandas as pd\n",
    "from nltk.stem.porter import PorterStemmer\n",
    "from stemming.porter2 import stem\n",
    "from mlxtend.feature_selection import SequentialFeatureSelector as SFS\n",
    "from sklearn.neighbors import KNeighborsClassifier\n",
    "from sklearn.preprocessing import Imputer\n",
    "import matplotlib.pyplot as plt\n",
    "import math"
   ]
  },
  {
   "cell_type": "code",
   "execution_count": 2,
   "metadata": {
    "collapsed": false
   },
   "outputs": [
    {
     "name": "stdout",
     "output_type": "stream",
     "text": [
      "From: lerxst@wam.umd.edu (where's my thing)\n",
      "Subject: WHAT car is this!?\n",
      "Nntp-Posting-Host: rac3.wam.umd.edu\n",
      "rec.autos\n"
     ]
    }
   ],
   "source": [
    "#loading the news dataset from sklearn dataset library\n",
    "twenty_train = fetch_20newsgroups(subset='train',shuffle=True, random_state=42)\n",
    "twenty_test = fetch_20newsgroups(subset='test', shuffle=True, random_state=42)\n",
    "\n",
    "# tokenize to sentences based on the notations followed in english literature\n",
    "tokenizer = nltk.data.load('tokenizers/punkt/english.pickle')\n",
    "print(\"\\n\".join(twenty_train.data[0].split(\"\\n\")[:3]))\n",
    "print(twenty_train.target_names[twenty_train.target[0]])"
   ]
  },
  {
   "cell_type": "code",
   "execution_count": 3,
   "metadata": {
    "collapsed": true
   },
   "outputs": [],
   "source": [
    "# function to parse sentences to words and remove stopwords from sentence\n",
    "def sentence_to_wordlist( sentence, remove_stopwords=True ):\n",
    "    # Function to convert a document to a sequence of words,\n",
    "    # optionally removing stop words.  Returns a list of words.\n",
    "    #\n",
    "    # 1. Remove HTML\n",
    "    text = BeautifulSoup(sentence).get_text()\n",
    "    #  \n",
    "    # 2. Remove non-letters\n",
    "    text = re.sub(\"[^a-zA-Z]\",\" \",text)\n",
    "    #\n",
    "    # 3. Convert words to lower case and split them\n",
    "    words = text.lower().split()\n",
    "    #\n",
    "    # 4. Optionally remove stop words (false by default)\n",
    "    if remove_stopwords:\n",
    "        stops = set(stopwords.words(\"english\"))\n",
    "        words = [w for w in words if not w in stops]\n",
    "    #\n",
    "    # 5. Return a list of words\n",
    "    return(words)"
   ]
  },
  {
   "cell_type": "code",
   "execution_count": 4,
   "metadata": {
    "collapsed": true
   },
   "outputs": [],
   "source": [
    "# function to parse text to sentences using tokenizer mentioned above\n",
    "def text_to_sentences(text,tokenizer,remove_stopwords=True):\n",
    "    raw_sentences = tokenizer.tokenize(text.strip())\n",
    "    sentences = []\n",
    "    for raw_sentence in raw_sentences:\n",
    "        # If a sentence is empty, skip it\n",
    "        if len(raw_sentence) > 0:\n",
    "            # Otherwise, call review_to_wordlist to get a list of words\n",
    "            sentences.append( sentence_to_wordlist( raw_sentence, \\\n",
    "              remove_stopwords ))\n",
    "    #\n",
    "    # Return the list of sentences (each sentence is a list of words,\n",
    "    # so this returns a list of lists\n",
    "    return sentences"
   ]
  },
  {
   "cell_type": "code",
   "execution_count": 5,
   "metadata": {
    "collapsed": false
   },
   "outputs": [
    {
     "name": "stdout",
     "output_type": "stream",
     "text": [
      "Parsing sentences from training set\n"
     ]
    },
    {
     "name": "stderr",
     "output_type": "stream",
     "text": [
      "/home/dell/anaconda2/lib/python2.7/site-packages/bs4/__init__.py:181: UserWarning: No parser was explicitly specified, so I'm using the best available HTML parser for this system (\"lxml\"). This usually isn't a problem, but if you run this code on another system, or in a different virtual environment, it may use a different parser and behave differently.\n",
      "\n",
      "The code that caused this warning is on line 174 of the file /home/dell/anaconda2/lib/python2.7/runpy.py. To get rid of this warning, change code that looks like this:\n",
      "\n",
      " BeautifulSoup([your markup])\n",
      "\n",
      "to this:\n",
      "\n",
      " BeautifulSoup([your markup], \"lxml\")\n",
      "\n",
      "  markup_type=markup_type))\n",
      "/home/dell/anaconda2/lib/python2.7/site-packages/bs4/__init__.py:219: UserWarning: \".\" looks like a filename, not markup. You shouldprobably open this file and pass the filehandle intoBeautiful Soup.\n",
      "  'Beautiful Soup.' % markup)\n",
      "/home/dell/anaconda2/lib/python2.7/site-packages/bs4/__init__.py:219: UserWarning: \"..\" looks like a filename, not markup. You shouldprobably open this file and pass the filehandle intoBeautiful Soup.\n",
      "  'Beautiful Soup.' % markup)\n"
     ]
    },
    {
     "name": "stdout",
     "output_type": "stream",
     "text": [
      "11314\n",
      "[\"[u'lerxst', u'wam', u'umd', u'edu', u'thing', u'subject', u'car']\", \"[u'nntp', u'posting', u'host', u'rac', u'wam', u'umd', u'edu', u'organization', u'university', u'maryland', u'college', u'park', u'lines', u'wondering', u'anyone', u'could', u'enlighten', u'car', u'saw', u'day']\", \"[u'door', u'sports', u'car', u'looked', u'late', u'early']\", \"[u'called', u'bricklin']\", \"[u'doors', u'really', u'small']\", \"[u'addition', u'front', u'bumper', u'separate', u'rest', u'body']\", \"[u'know']\", \"[u'anyone', u'tellme', u'model', u'name', u'engine', u'specs', u'years', u'production', u'car', u'made', u'history', u'whatever', u'info', u'funky', u'looking', u'car', u'please', u'e', u'mail']\", \"[u'thanks', u'il', u'brought', u'neighborhood', u'lerxst']\"]\n",
      "Parsing sentences from unlabeled set\n"
     ]
    },
    {
     "name": "stderr",
     "output_type": "stream",
     "text": [
      "/home/dell/anaconda2/lib/python2.7/site-packages/bs4/__init__.py:219: UserWarning: \"/\" looks like a filename, not markup. You shouldprobably open this file and pass the filehandle intoBeautiful Soup.\n",
      "  'Beautiful Soup.' % markup)\n"
     ]
    },
    {
     "name": "stdout",
     "output_type": "stream",
     "text": [
      "7532\n",
      "[\"[u'v', u'mb', u'k', u'ubvmsd', u'cc', u'buffalo', u'edu', u'neil', u'b', u'gandler', u'subject', u'need', u'info', u'bonneville', u'organization', u'university', u'buffalo', u'lines', u'news', u'software', u'vax', u'vms', u'vnews', u'nntp', u'posting', u'host', u'ubvmsd', u'cc', u'buffalo', u'edu', u'little', u'confused', u'models', u'bonnevilles']\", \"[u'heard', u'le', u'se', u'lse', u'sse', u'ssei']\", \"[u'could', u'someone', u'tell', u'differences', u'far', u'features', u'performance']\", \"[u'also', u'curious', u'know', u'book', u'value', u'prefereably', u'model']\", \"[u'much', u'less', u'book', u'value', u'usually', u'get']\", \"[u'words', u'much', u'demand', u'time', u'year']\", \"[u'heard', u'mid', u'spring', u'early', u'summer', u'best', u'time', u'buy']\", \"[u'neil', u'gandler']\"]\n"
     ]
    }
   ],
   "source": [
    "#train_sentences and test_sentences contain the filtered sentences of training and testing data respectively\n",
    "\n",
    "train_sentences = []  # Initialize an empty list of sentences\n",
    "test_sentences = []\n",
    "\n",
    "print \"Parsing sentences from training set\"\n",
    "for i in range(len(twenty_train.data)):\n",
    "    train_sentences += [[stem(str(word)) for word in sentence] \\\n",
    "                        for sentence in [text_to_sentences(twenty_train.data[i], tokenizer)]]\n",
    "print len(train_sentences)\n",
    "print train_sentences[0]\n",
    "\n",
    "print \"Parsing sentences from unlabeled set\"\n",
    "for i in range(len(twenty_test.data)):\n",
    "    test_sentences += [[stem(str(word)) for word in sentence] \\\n",
    "                       for sentence in [text_to_sentences(twenty_test.data[i], tokenizer)]]\n",
    "print len(test_sentences)\n",
    "print test_sentences[0]"
   ]
  },
  {
   "cell_type": "code",
   "execution_count": 6,
   "metadata": {
    "collapsed": false
   },
   "outputs": [
    {
     "name": "stderr",
     "output_type": "stream",
     "text": [
      "2017-04-11 18:41:16,434 : INFO : collecting all words and their counts\n",
      "2017-04-11 18:41:16,436 : INFO : PROGRESS: at sentence #0, processed 0 words, keeping 0 word types\n"
     ]
    },
    {
     "name": "stdout",
     "output_type": "stream",
     "text": [
      "Training model...\n"
     ]
    },
    {
     "name": "stderr",
     "output_type": "stream",
     "text": [
      "2017-04-11 18:41:16,648 : INFO : PROGRESS: at sentence #10000, processed 166860 words, keeping 130308 word types\n",
      "2017-04-11 18:41:16,675 : INFO : collected 144031 word types from a corpus of 187884 raw words and 11314 sentences\n",
      "2017-04-11 18:41:16,676 : INFO : Loading a fresh vocabulary\n",
      "2017-04-11 18:41:16,782 : INFO : min_count=40 retains 28 unique words (0% of original 144031, drops 144003)\n",
      "2017-04-11 18:41:16,783 : INFO : min_count=40 leaves 7150 word corpus (3% of original 187884, drops 180734)\n",
      "2017-04-11 18:41:16,784 : INFO : deleting the raw counts dictionary of 144031 items\n",
      "2017-04-11 18:41:16,817 : INFO : sample=0.001 downsamples 28 most-common words\n",
      "2017-04-11 18:41:16,819 : INFO : downsampling leaves estimated 1012 word corpus (14.2% of prior 7150)\n",
      "2017-04-11 18:41:16,823 : INFO : estimated required memory for 28 words and 300 dimensions: 81200 bytes\n",
      "2017-04-11 18:41:16,826 : INFO : resetting layer weights\n",
      "2017-04-11 18:41:16,829 : INFO : training model with 4 workers on 28 vocabulary and 300 features, using sg=0 hs=0 sample=0.001 negative=5 window=10\n",
      "2017-04-11 18:41:16,830 : INFO : expecting 11314 sentences, matching count from corpus used for vocabulary survey\n",
      "2017-04-11 18:41:17,100 : INFO : worker thread finished; awaiting finish of 3 more threads\n",
      "2017-04-11 18:41:17,101 : INFO : worker thread finished; awaiting finish of 2 more threads\n",
      "2017-04-11 18:41:17,104 : INFO : worker thread finished; awaiting finish of 1 more threads\n",
      "2017-04-11 18:41:17,107 : INFO : worker thread finished; awaiting finish of 0 more threads\n",
      "2017-04-11 18:41:17,110 : INFO : training on 939420 raw words (5101 effective words) took 0.3s, 18863 effective words/s\n",
      "2017-04-11 18:41:17,112 : INFO : precomputing L2-norms of word weight vectors\n",
      "2017-04-11 18:41:17,115 : INFO : saving Word2Vec object under 300features_40minwords_10context, separately None\n",
      "2017-04-11 18:41:17,118 : INFO : not storing attribute syn0norm\n",
      "2017-04-11 18:41:17,120 : INFO : not storing attribute cum_table\n",
      "2017-04-11 18:41:17,147 : INFO : saved 300features_40minwords_10context\n"
     ]
    }
   ],
   "source": [
    "logging.basicConfig(format='%(asctime)s : %(levelname)s : %(message)s',\\\n",
    "    level=logging.INFO)\n",
    "\n",
    "# Set values for various parameters\n",
    "num_features = 300    # Word vector dimensionality                      \n",
    "min_word_count = 40   # Minimum word count                        \n",
    "num_workers = 4       # Number of threads to run in parallel\n",
    "context = 10          # Context window size                                                                                    \n",
    "downsampling = 1e-3   # Downsample setting for frequent words\n",
    "# Initialize and train the model (this will take some time)\n",
    "\n",
    "print \"Training model...\"\n",
    "model = Word2Vec(train_sentences, workers=num_workers, \\\n",
    "            size=num_features, min_count = min_word_count, \\\n",
    "            window = context, sample = downsampling)\n",
    "\n",
    "# If you don't plan to train the model any further, calling \n",
    "# init_sims will make the model much more memory-efficient.\n",
    "model.init_sims(replace=False)\n",
    "\n",
    "# It can be helpful to create a meaningful model name and \n",
    "# save the model for later use. You can load it later using Word2Vec.load()\n",
    "model_name = \"300features_40minwords_10context\"\n",
    "model.save(model_name)"
   ]
  },
  {
   "cell_type": "code",
   "execution_count": 7,
   "metadata": {
    "collapsed": true
   },
   "outputs": [],
   "source": [
    "def makeFeatureVec(words,model,num_features):\n",
    "    # Function to average all of the word vectors in a given\n",
    "    # paragraph\n",
    "    #\n",
    "    # Pre-initialize an empty numpy array (for speed)\n",
    "    featureVec = np.zeros((num_features,),dtype=\"float64\")\n",
    "    #\n",
    "    nwords = 0.\n",
    "    # \n",
    "    # Index2word is a list that contains the names of the words in \n",
    "    # the model's vocabulary. Convert it to a set, for speed \n",
    "    index2word_set = set(model.wv.index2word)\n",
    "    #sorted_set = set(model.sort_vocab())\n",
    "    #\n",
    "    # Loop over each word in the review and, if it is in the model's\n",
    "    # vocaublary, add its feature vector to the total\n",
    "    for word in words:\n",
    "        if word in index2word_set: \n",
    "            nwords = nwords + 1.\n",
    "            featureVec = np.add(featureVec,model[word])\n",
    "    # \n",
    "    # Divide the result by the number of words to get the average\n",
    "    featureVec = np.divide(featureVec,nwords)\n",
    "    return featureVec"
   ]
  },
  {
   "cell_type": "code",
   "execution_count": 8,
   "metadata": {
    "collapsed": true
   },
   "outputs": [],
   "source": [
    "def getAvgFeatureVecs(reviews, model, num_features):\n",
    "    # Given a set of reviews (each one a list of words), calculate \n",
    "    # the average feature vector for each one and return a 2D numpy array \n",
    "    # \n",
    "    # Initialize a counter\n",
    "    counter = 0.\n",
    "    # \n",
    "    # Preallocate a 2D numpy array, for speed\n",
    "    reviewFeatureVecs = np.zeros((len(reviews),num_features),dtype=\"float32\")\n",
    "    # \n",
    "    # Loop through the reviews\n",
    "    for review in reviews:\n",
    "    # Print a status message every 1000th review\n",
    "        if counter%1000. == 0.:\n",
    "            print \"Review %d of %d\" % (counter, len(reviews))\n",
    "\n",
    "    # Call the function (defined above) that makes average feature vectors\n",
    "        reviewFeatureVecs[counter] = makeFeatureVec(review, model, \\\n",
    "           num_features)\n",
    "    # Increment the counter\n",
    "        counter = counter + 1.\n",
    "    return reviewFeatureVecs"
   ]
  },
  {
   "cell_type": "code",
   "execution_count": 11,
   "metadata": {
    "collapsed": false
   },
   "outputs": [
    {
     "name": "stdout",
     "output_type": "stream",
     "text": [
      "Review 0 of 11314\n",
      "Review 1000 of 11314\n",
      "Review 2000 of 11314\n",
      "Review 3000 of 11314\n",
      "Review 4000 of 11314\n",
      "Review 5000 of 11314\n",
      "Review 6000 of 11314\n"
     ]
    },
    {
     "name": "stderr",
     "output_type": "stream",
     "text": [
      "/home/dell/anaconda2/lib/python2.7/site-packages/ipykernel/__main__.py:23: RuntimeWarning: invalid value encountered in divide\n"
     ]
    },
    {
     "name": "stdout",
     "output_type": "stream",
     "text": [
      "Review 7000 of 11314\n",
      "Review 8000 of 11314\n",
      "Review 9000 of 11314\n",
      "Review 10000 of 11314\n",
      "Review 11000 of 11314\n",
      "Review 0 of 7532\n",
      "Review 1000 of 7532\n",
      "Review 2000 of 7532\n",
      "Review 3000 of 7532\n",
      "Review 4000 of 7532\n",
      "Review 5000 of 7532\n",
      "Review 6000 of 7532\n",
      "Review 7000 of 7532\n",
      "<type 'numpy.ndarray'>\n",
      "300\n"
     ]
    }
   ],
   "source": [
    "# Calculate average feature vectors for training and testing sets,\n",
    "# using the functions we defined above. \n",
    "\n",
    "trainDataVecs = getAvgFeatureVecs( train_sentences, model, num_features )\n",
    "testDataVecs = getAvgFeatureVecs( test_sentences, model, num_features )\n",
    "print type(trainDataVecs)\n",
    "print trainDataVecs.shape[1]"
   ]
  },
  {
   "cell_type": "code",
   "execution_count": 26,
   "metadata": {
    "collapsed": false
   },
   "outputs": [],
   "source": [
    "def Gain(entropy,data,attr_index,target):\n",
    " \n",
    "    val_freq = {}\n",
    "    subset_entropy = 0.0\n",
    "    data_subset=[]\n",
    "    # Calculate the frequency of each of the values in the target attribute\n",
    "    for i in range(len(data)):\n",
    "        if (val_freq.has_key(target[i])):\n",
    "            val_freq[data[i][attr_index]] += 1.0\n",
    "        else:\n",
    "            val_freq[data[i][attr_index]]  = 1.0\n",
    " \n",
    "    # Calculate the sum of the entropy for each subset of records weighted by their probability of occuring in the training set.\n",
    "    for val in val_freq.keys():\n",
    "        val_prob = val_freq[val] / sum(val_freq.values())\n",
    "        for record in data:\n",
    "            if record[attr_index]==val:\n",
    "                data_subset.append(record)\n",
    "        subset_entropy += val_prob * (Entropy(data_subset,target))\n",
    "    #print data_subset\n",
    "    # Subtract the entropy of the chosen attribute from the entropy of the whole data set with respect to the target attribute (and return it)\n",
    "    #print subset_entropy\n",
    "    return (entropy- subset_entropy)"
   ]
  },
  {
   "cell_type": "code",
   "execution_count": 27,
   "metadata": {
    "collapsed": true
   },
   "outputs": [],
   "source": [
    "def Entropy(data,target):\n",
    " \n",
    "    val_freq = {}\n",
    "    data_entropy = 0.0\n",
    " \n",
    "    # Calculate the frequency of each of the values in the target attr\n",
    "    for i in range(len(data)):\n",
    "        if (val_freq.has_key(target[i])):\n",
    "            val_freq[target[i]] += 1.0\n",
    "        else:\n",
    "            val_freq[target[i]]  = 1.0\n",
    " \n",
    "    # Calculate the entropy of the data for the target attribute\n",
    "    for freq in val_freq.values():\n",
    "        data_entropy += (-freq/len(data)) * math.log(freq/len(data), 2) \n",
    " \n",
    "    return data_entropy"
   ]
  },
  {
   "cell_type": "code",
   "execution_count": null,
   "metadata": {
    "collapsed": false
   },
   "outputs": [],
   "source": [
    "gain=[]\n",
    "entr=Entropy(trainDataVecs,twenty_train.target)\n",
    "#print entr\n",
    "for i in range(trainDataVecs.shape[1]):\n",
    "    gain.append(Gain(entr,trainDataVecs,i,twenty_train.target))\n",
    "print gain\n",
    "#print range(29)\n",
    "#x=list(range(trainDataVecs.shape[1]))\n",
    "#plt.plot(x,gain,\"ob\")\n",
    "#plt.ylabel('Gain')"
   ]
  }
 ],
 "metadata": {
  "kernelspec": {
   "display_name": "Python 2",
   "language": "python",
   "name": "python2"
  },
  "language_info": {
   "codemirror_mode": {
    "name": "ipython",
    "version": 2
   },
   "file_extension": ".py",
   "mimetype": "text/x-python",
   "name": "python",
   "nbconvert_exporter": "python",
   "pygments_lexer": "ipython2",
   "version": "2.7.13"
  }
 },
 "nbformat": 4,
 "nbformat_minor": 2
}
